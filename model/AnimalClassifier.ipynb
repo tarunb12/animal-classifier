{
  "nbformat": 4,
  "nbformat_minor": 0,
  "metadata": {
    "colab": {
      "name": "AnimalClassifier.ipynb",
      "provenance": [],
      "collapsed_sections": [],
      "toc_visible": true
    },
    "kernelspec": {
      "name": "python3",
      "display_name": "Python 3"
    },
    "accelerator": "GPU"
  },
  "cells": [
    {
      "cell_type": "code",
      "metadata": {
        "id": "zPSNvZRqxYKM",
        "outputId": "3eb43524-7f48-4f3f-a2be-051b334c69d0",
        "colab": {
          "base_uri": "https://localhost:8080/"
        }
      },
      "source": [
        "%tensorflow_version 2.x\n",
        "import tensorflow as tf\n",
        "device_name = tf.test.gpu_device_name()\n",
        "if device_name != '/device:GPU:0':\n",
        "    raise SystemError('GPU device not found')\n",
        "print('Found GPU at: {}'.format(device_name))"
      ],
      "execution_count": 1,
      "outputs": [
        {
          "output_type": "stream",
          "text": [
            "Found GPU at: /device:GPU:0\n"
          ],
          "name": "stdout"
        }
      ]
    },
    {
      "cell_type": "code",
      "metadata": {
        "id": "ZZg8H6s4DvHa",
        "outputId": "aa8c6ca8-52ad-4b57-a292-45b65e59ca37",
        "colab": {
          "base_uri": "https://localhost:8080/"
        }
      },
      "source": [
        "!pip install boto3 python-dotenv split-folders\n",
        "\n",
        "import boto3\n",
        "import json\n",
        "import os\n",
        "import pandas as pd\n",
        "import seaborn as sn\n",
        "import splitfolders\n",
        "import tarfile\n",
        "\n",
        "from dotenv import load_dotenv\n",
        "from google.colab import drive\n",
        "from matplotlib import pyplot as plt\n",
        "from tensorflow import keras\n",
        "\n",
        "%matplotlib inline"
      ],
      "execution_count": 2,
      "outputs": [
        {
          "output_type": "stream",
          "text": [
            "Requirement already satisfied: boto3 in /usr/local/lib/python3.6/dist-packages (1.16.11)\n",
            "Requirement already satisfied: python-dotenv in /usr/local/lib/python3.6/dist-packages (0.15.0)\n",
            "Requirement already satisfied: split-folders in /usr/local/lib/python3.6/dist-packages (0.4.3)\n",
            "Requirement already satisfied: botocore<1.20.0,>=1.19.11 in /usr/local/lib/python3.6/dist-packages (from boto3) (1.19.11)\n",
            "Requirement already satisfied: jmespath<1.0.0,>=0.7.1 in /usr/local/lib/python3.6/dist-packages (from boto3) (0.10.0)\n",
            "Requirement already satisfied: s3transfer<0.4.0,>=0.3.0 in /usr/local/lib/python3.6/dist-packages (from boto3) (0.3.3)\n",
            "Requirement already satisfied: urllib3<1.26,>=1.25.4; python_version != \"3.4\" in /usr/local/lib/python3.6/dist-packages (from botocore<1.20.0,>=1.19.11->boto3) (1.25.11)\n",
            "Requirement already satisfied: python-dateutil<3.0.0,>=2.1 in /usr/local/lib/python3.6/dist-packages (from botocore<1.20.0,>=1.19.11->boto3) (2.8.1)\n",
            "Requirement already satisfied: six>=1.5 in /usr/local/lib/python3.6/dist-packages (from python-dateutil<3.0.0,>=2.1->botocore<1.20.0,>=1.19.11->boto3) (1.15.0)\n"
          ],
          "name": "stdout"
        }
      ]
    },
    {
      "cell_type": "markdown",
      "metadata": {
        "id": "4JAOo9BQ-qgw"
      },
      "source": [
        "Mount drive for accessing the dataset"
      ]
    },
    {
      "cell_type": "code",
      "metadata": {
        "id": "3YjFaEObzDin",
        "outputId": "ed401442-bfce-4ed0-ee0f-e8f0b59967ad",
        "colab": {
          "base_uri": "https://localhost:8080/"
        }
      },
      "source": [
        "drive.mount('/content/drive')\n",
        "DATA_PATH = '/content/drive/My Drive/animal-classifier'"
      ],
      "execution_count": 3,
      "outputs": [
        {
          "output_type": "stream",
          "text": [
            "Mounted at /content/drive\n"
          ],
          "name": "stdout"
        }
      ]
    },
    {
      "cell_type": "markdown",
      "metadata": {
        "id": "ZlZNDbglEXIa"
      },
      "source": [
        "Constants"
      ]
    },
    {
      "cell_type": "code",
      "metadata": {
        "id": "detD_fQHzvSt"
      },
      "source": [
        "IMG_WIDTH = 128\n",
        "IMG_HEIGHT = 128\n",
        "CHANNELS = 3\n",
        "\n",
        "BATCH_SIZE = 128\n",
        "EPOCHS = 200"
      ],
      "execution_count": 4,
      "outputs": []
    },
    {
      "cell_type": "markdown",
      "metadata": {
        "id": "7GF8VR2dE_rD"
      },
      "source": [
        "Extract dataset from zip archive"
      ]
    },
    {
      "cell_type": "code",
      "metadata": {
        "id": "7fHdMjB-CCuc",
        "outputId": "d2619c24-880f-4631-fdc3-ef4591ccdd9f",
        "colab": {
          "base_uri": "https://localhost:8080/"
        }
      },
      "source": [
        "dataset_path = 'datasets/'\n",
        "animals10_path = f'{dataset_path}animals10'\n",
        "if not os.path.isdir(animals10_path):\n",
        "    with tarfile.open(f'{DATA_PATH}/animals10.tgz') as tar:\n",
        "        tar.extractall(dataset_path)\n",
        "sum((len(f) for _, _, f in os.walk(animals10_path)))"
      ],
      "execution_count": 5,
      "outputs": [
        {
          "output_type": "execute_result",
          "data": {
            "text/plain": [
              "26179"
            ]
          },
          "metadata": {
            "tags": []
          },
          "execution_count": 5
        }
      ]
    },
    {
      "cell_type": "markdown",
      "metadata": {
        "id": "GnXNNRg8E7lS"
      },
      "source": [
        "Split training & validation data"
      ]
    },
    {
      "cell_type": "code",
      "metadata": {
        "id": "yDTUB4mDCQ6x",
        "outputId": "24cb4391-e538-435b-fc13-06c7ad23215c",
        "colab": {
          "base_uri": "https://localhost:8080/"
        }
      },
      "source": [
        "process_path = 'data/animals10'\n",
        "if not os.path.isdir(process_path):\n",
        "    splitfolders.ratio(animals10_path, output=process_path, seed=1337, ratio=(0.75, 0.25))"
      ],
      "execution_count": 6,
      "outputs": [
        {
          "output_type": "stream",
          "text": [
            "Copying files: 26179 files [00:04, 5619.61 files/s]\n"
          ],
          "name": "stderr"
        }
      ]
    },
    {
      "cell_type": "markdown",
      "metadata": {
        "id": "58WJ3CO-E5ky"
      },
      "source": [
        "Generator setup"
      ]
    },
    {
      "cell_type": "code",
      "metadata": {
        "id": "eAjyGKpoDbUo"
      },
      "source": [
        "train_gen = keras.preprocessing.image.ImageDataGenerator(\n",
        "    rescale=1./255,\n",
        "    rotation_range=20,\n",
        "    shear_range=0.2,\n",
        "    zoom_range=0.2,\n",
        "    horizontal_flip=True,\n",
        ")\n",
        "test_gen = keras.preprocessing.image.ImageDataGenerator(rescale=1./255)"
      ],
      "execution_count": 7,
      "outputs": []
    },
    {
      "cell_type": "code",
      "metadata": {
        "id": "6lGe9TGKDnon",
        "outputId": "202cd2d0-0679-45f7-b8ab-6fc097949e5f",
        "colab": {
          "base_uri": "https://localhost:8080/"
        }
      },
      "source": [
        "ds_args = lambda dir: {\n",
        "    'directory': f'{process_path}/{dir}',\n",
        "    'batch_size': BATCH_SIZE,\n",
        "    'shuffle': dir == 'train',\n",
        "    'target_size': (IMG_HEIGHT, IMG_WIDTH),\n",
        "}\n",
        "train_ds = train_gen.flow_from_directory(**ds_args('train'))\n",
        "val_ds = test_gen.flow_from_directory(**ds_args('val'))"
      ],
      "execution_count": 10,
      "outputs": [
        {
          "output_type": "stream",
          "text": [
            "Found 19631 images belonging to 10 classes.\n",
            "Found 6548 images belonging to 10 classes.\n"
          ],
          "name": "stdout"
        }
      ]
    },
    {
      "cell_type": "code",
      "metadata": {
        "id": "JNNTuV6kEFdU",
        "outputId": "b264f385-034b-4784-c84a-461136744658",
        "colab": {
          "base_uri": "https://localhost:8080/"
        }
      },
      "source": [
        "N_CLASSES = train_ds.num_classes\n",
        "train_count, val_count = train_ds.n, val_ds.n\n",
        "print(f'{train_ds.image_shape} {train_count} {val_count}')"
      ],
      "execution_count": 11,
      "outputs": [
        {
          "output_type": "stream",
          "text": [
            "(128, 128, 3) 19631 6548\n"
          ],
          "name": "stdout"
        }
      ]
    },
    {
      "cell_type": "markdown",
      "metadata": {
        "id": "L0BQ4n0pIW7Z"
      },
      "source": [
        "Model setup"
      ]
    },
    {
      "cell_type": "code",
      "metadata": {
        "id": "9O7FHKIwFnlW",
        "outputId": "93babccd-86bc-490f-a575-6e45a0f685db",
        "colab": {
          "base_uri": "https://localhost:8080/"
        }
      },
      "source": [
        "model = keras.models.Sequential([\n",
        "    keras.layers.InputLayer(input_shape=(IMG_HEIGHT, IMG_WIDTH, CHANNELS)),\n",
        "    keras.layers.Conv2D(filters=64, kernel_size=(3, 3), strides=(1, 1)),\n",
        "    keras.layers.ReLU(),\n",
        "    keras.layers.MaxPool2D(pool_size=(2, 2)),\n",
        "    keras.layers.Conv2D(filters=64, kernel_size=(3, 3), strides=(1, 1)),\n",
        "    keras.layers.ReLU(),\n",
        "    keras.layers.MaxPool2D(pool_size=(2, 2)),\n",
        "    keras.layers.Conv2D(filters=128, kernel_size=(3, 3), strides=(1, 1)),\n",
        "    keras.layers.ReLU(),\n",
        "    keras.layers.MaxPool2D(pool_size=(2, 2)),\n",
        "    keras.layers.Conv2D(filters=128, kernel_size=(3, 3), strides=(1, 1)),\n",
        "    keras.layers.ReLU(),\n",
        "    keras.layers.MaxPool2D(pool_size=(2, 2)),\n",
        "    keras.layers.Flatten(),\n",
        "    keras.layers.Dense(units=512),\n",
        "    keras.layers.ReLU(),\n",
        "    keras.layers.Dropout(rate=0.4),\n",
        "    keras.layers.Dense(units=512),\n",
        "    keras.layers.ReLU(),\n",
        "    keras.layers.Dropout(0.4),\n",
        "    keras.layers.Dense(units=256),\n",
        "    keras.layers.ReLU(),\n",
        "    keras.layers.Dense(N_CLASSES),\n",
        "    keras.layers.Softmax(),\n",
        "])\n",
        "model.compile(\n",
        "    optimizer=tf.optimizers.Adam(0.0002),\n",
        "    loss=tf.keras.losses.CategoricalCrossentropy(),\n",
        "    metrics=['accuracy'],\n",
        ")\n",
        "model.summary()"
      ],
      "execution_count": 12,
      "outputs": [
        {
          "output_type": "stream",
          "text": [
            "Model: \"sequential\"\n",
            "_________________________________________________________________\n",
            "Layer (type)                 Output Shape              Param #   \n",
            "=================================================================\n",
            "conv2d (Conv2D)              (None, 126, 126, 64)      1792      \n",
            "_________________________________________________________________\n",
            "re_lu (ReLU)                 (None, 126, 126, 64)      0         \n",
            "_________________________________________________________________\n",
            "max_pooling2d (MaxPooling2D) (None, 63, 63, 64)        0         \n",
            "_________________________________________________________________\n",
            "conv2d_1 (Conv2D)            (None, 61, 61, 64)        36928     \n",
            "_________________________________________________________________\n",
            "re_lu_1 (ReLU)               (None, 61, 61, 64)        0         \n",
            "_________________________________________________________________\n",
            "max_pooling2d_1 (MaxPooling2 (None, 30, 30, 64)        0         \n",
            "_________________________________________________________________\n",
            "conv2d_2 (Conv2D)            (None, 28, 28, 128)       73856     \n",
            "_________________________________________________________________\n",
            "re_lu_2 (ReLU)               (None, 28, 28, 128)       0         \n",
            "_________________________________________________________________\n",
            "max_pooling2d_2 (MaxPooling2 (None, 14, 14, 128)       0         \n",
            "_________________________________________________________________\n",
            "conv2d_3 (Conv2D)            (None, 12, 12, 128)       147584    \n",
            "_________________________________________________________________\n",
            "re_lu_3 (ReLU)               (None, 12, 12, 128)       0         \n",
            "_________________________________________________________________\n",
            "max_pooling2d_3 (MaxPooling2 (None, 6, 6, 128)         0         \n",
            "_________________________________________________________________\n",
            "flatten (Flatten)            (None, 4608)              0         \n",
            "_________________________________________________________________\n",
            "dense (Dense)                (None, 512)               2359808   \n",
            "_________________________________________________________________\n",
            "re_lu_4 (ReLU)               (None, 512)               0         \n",
            "_________________________________________________________________\n",
            "dropout (Dropout)            (None, 512)               0         \n",
            "_________________________________________________________________\n",
            "dense_1 (Dense)              (None, 512)               262656    \n",
            "_________________________________________________________________\n",
            "re_lu_5 (ReLU)               (None, 512)               0         \n",
            "_________________________________________________________________\n",
            "dropout_1 (Dropout)          (None, 512)               0         \n",
            "_________________________________________________________________\n",
            "dense_2 (Dense)              (None, 256)               131328    \n",
            "_________________________________________________________________\n",
            "re_lu_6 (ReLU)               (None, 256)               0         \n",
            "_________________________________________________________________\n",
            "dense_3 (Dense)              (None, 10)                2570      \n",
            "_________________________________________________________________\n",
            "softmax (Softmax)            (None, 10)                0         \n",
            "=================================================================\n",
            "Total params: 3,016,522\n",
            "Trainable params: 3,016,522\n",
            "Non-trainable params: 0\n",
            "_________________________________________________________________\n"
          ],
          "name": "stdout"
        }
      ]
    },
    {
      "cell_type": "markdown",
      "metadata": {
        "id": "OE-maCOkI_WQ"
      },
      "source": [
        "Callback setup"
      ]
    },
    {
      "cell_type": "code",
      "metadata": {
        "id": "0lexPINAIZ8X"
      },
      "source": [
        "checkpoint_path = 'tmp/training.ckpt'\n",
        "checkpoint_dir = os.path.dirname(checkpoint_path)\n",
        "checkpoint_callback = keras.callbacks.ModelCheckpoint(\n",
        "    filepath=checkpoint_path,\n",
        "    save_weights_only=True,\n",
        "    monitor='val_accuracy',\n",
        "    mode='max',\n",
        "    save_best_only=True\n",
        ")"
      ],
      "execution_count": 13,
      "outputs": []
    },
    {
      "cell_type": "markdown",
      "metadata": {
        "id": "H6ENqTS-JWvE"
      },
      "source": [
        "Train model"
      ]
    },
    {
      "cell_type": "code",
      "metadata": {
        "id": "88f2WgxsJCAA",
        "outputId": "d24c3764-e567-408f-fd99-59a529681dc0",
        "colab": {
          "base_uri": "https://localhost:8080/"
        }
      },
      "source": [
        "history = model.fit(\n",
        "    train_ds,\n",
        "    validation_data=val_ds,\n",
        "    epochs=EPOCHS,\n",
        "    steps_per_epoch=train_count // BATCH_SIZE,\n",
        "    validation_steps=val_count // BATCH_SIZE,\n",
        "    verbose=1,\n",
        "    callbacks=[\n",
        "        checkpoint_callback,\n",
        "    ],\n",
        ")"
      ],
      "execution_count": 14,
      "outputs": [
        {
          "output_type": "stream",
          "text": [
            "  2/153 [..............................] - ETA: 6s - loss: 2.2933 - accuracy: 0.1055WARNING:tensorflow:Callbacks method `on_train_batch_end` is slow compared to the batch time (batch time: 0.0316s vs `on_train_batch_end` time: 0.0565s). Check your callbacks.\n",
            "153/153 [==============================] - 120s 784ms/step - loss: 2.1377 - accuracy: 0.2298 - val_loss: 1.9553 - val_accuracy: 0.3180\n"
          ],
          "name": "stdout"
        }
      ]
    },
    {
      "cell_type": "markdown",
      "metadata": {
        "id": "rQr4GEwZJVEB"
      },
      "source": [
        "Save model"
      ]
    },
    {
      "cell_type": "code",
      "metadata": {
        "id": "yDuhUnHzilD9"
      },
      "source": [
        "# checkpoint_callback.restore(tf.train.latest_checkpoint(checkpoint_dir))"
      ],
      "execution_count": 13,
      "outputs": []
    },
    {
      "cell_type": "code",
      "metadata": {
        "id": "a6Bv3yhqJSRz",
        "outputId": "ce7bf64c-5387-428f-9e31-bdaab8f64206",
        "colab": {
          "base_uri": "https://localhost:8080/"
        }
      },
      "source": [
        "model_dir = 'models/animal'\n",
        "model.save(model_dir)"
      ],
      "execution_count": 14,
      "outputs": [
        {
          "output_type": "stream",
          "text": [
            "WARNING:tensorflow:From /usr/local/lib/python3.6/dist-packages/tensorflow/python/training/tracking/tracking.py:111: Model.state_updates (from tensorflow.python.keras.engine.training) is deprecated and will be removed in a future version.\n",
            "Instructions for updating:\n",
            "This property should not be used in TensorFlow 2.0, as updates are applied automatically.\n",
            "WARNING:tensorflow:From /usr/local/lib/python3.6/dist-packages/tensorflow/python/training/tracking/tracking.py:111: Layer.updates (from tensorflow.python.keras.engine.base_layer) is deprecated and will be removed in a future version.\n",
            "Instructions for updating:\n",
            "This property should not be used in TensorFlow 2.0, as updates are applied automatically.\n",
            "INFO:tensorflow:Assets written to: models/animal/assets\n"
          ],
          "name": "stdout"
        }
      ]
    },
    {
      "cell_type": "markdown",
      "metadata": {
        "id": "614nxprbJZDV"
      },
      "source": [
        "Convert model"
      ]
    },
    {
      "cell_type": "code",
      "metadata": {
        "id": "0BgPHUx0Je7D"
      },
      "source": [
        "converter = tf.lite.TFLiteConverter.from_saved_model(model_dir)\n",
        "tflite_model = converter.convert()\n",
        "tflite_model_file = f'{model_dir}.tflite'\n",
        "with open(tflite_model_file, 'wb') as f:\n",
        "    f.write(tflite_model)"
      ],
      "execution_count": 15,
      "outputs": []
    },
    {
      "cell_type": "markdown",
      "metadata": {
        "id": "KIHvGQGsJgFG"
      },
      "source": [
        "S3 setup"
      ]
    },
    {
      "cell_type": "code",
      "metadata": {
        "id": "k6_lFb7YJmR7"
      },
      "source": [
        "basedir =  os.path.abspath(DATA_PATH)\n",
        "load_dotenv(os.path.join(basedir, '.env'))\n",
        "\n",
        "access_key = os.getenv('AWS_ACCESS_KEY')\n",
        "secret_key = os.getenv('AWS_SECRET_KEY')\n",
        "bucket = os.getenv('TEST_MODEL_BUCKET')\n",
        "\n",
        "session = boto3.Session(\n",
        "    aws_access_key_id=access_key,\n",
        "    aws_secret_access_key=secret_key,\n",
        ")"
      ],
      "execution_count": 16,
      "outputs": []
    },
    {
      "cell_type": "markdown",
      "metadata": {
        "id": "cWeUiO9lJ6bS"
      },
      "source": [
        "S3 upload"
      ]
    },
    {
      "cell_type": "code",
      "metadata": {
        "id": "dsonhAJUJ8zM"
      },
      "source": [
        "s3 = session.resource('s3')\n",
        "s3.meta.client.upload_file(tflite_model_file, bucket, 'animal/animal.tflite')\n",
        "\n",
        "output_translation = {v: k for k, v in train_ds.class_indices.items()}\n",
        "output_translation_file = f'{model_dir}.json'\n",
        "with open(output_translation_file, 'w') as f:\n",
        "    json.dump(output_translation, f)\n",
        "s3.meta.client.upload_file(output_translation_file, bucket, 'animal/animal.json')"
      ],
      "execution_count": 17,
      "outputs": []
    },
    {
      "cell_type": "markdown",
      "metadata": {
        "id": "s3HV39KFJ907"
      },
      "source": [
        "Plots"
      ]
    },
    {
      "cell_type": "code",
      "metadata": {
        "id": "9r9AlKPKKTmc",
        "outputId": "608a9636-883a-4d68-8a8a-5031d2900be8",
        "colab": {
          "base_uri": "https://localhost:8080/",
          "height": 518
        }
      },
      "source": [
        "sn.set_theme()\n",
        "\n",
        "acc = history.history['accuracy']\n",
        "val_acc = history.history['val_accuracy']\n",
        "loss = history.history['loss']\n",
        "val_loss = history.history['val_loss']\n",
        "epochs_range = range(1,len(acc)+1)\n",
        "\n",
        "plt.figure(figsize=(16, 8))\n",
        "plt.subplot(1, 2, 1)\n",
        "plt.plot(epochs_range, acc, label='Training Accuracy')\n",
        "plt.plot(epochs_range, val_acc, label='Validation Accuracy')\n",
        "plt.legend(loc='lower right')\n",
        "plt.title('Training Accuracy')\n",
        "plt.xlabel('Epoch #')\n",
        "plt.ylabel('Accuracy')\n",
        "\n",
        "plt.subplot(1, 2, 2)\n",
        "plt.plot(epochs_range, loss, label='Training Loss')\n",
        "plt.plot(epochs_range, val_loss, label='Validation Loss')\n",
        "plt.legend(loc='upper right')\n",
        "plt.title('Training Loss')\n",
        "plt.xlabel('Epoch #')\n",
        "plt.ylabel('Loss')\n",
        "plt.savefig(os.path.join(DATA_PATH, 'metrics.png'))\n",
        "plt.show()\n",
        "plt.close()"
      ],
      "execution_count": 15,
      "outputs": [
        {
          "output_type": "display_data",
          "data": {
            "image/png": "[encoded data removed]",
            "text/plain": [
              "<Figure size 1152x576 with 2 Axes>"
            ]
          },
          "metadata": {
            "tags": []
          }
        }
      ]
    },
    {
      "cell_type": "code",
      "metadata": {
        "id": "DADSUbsnqNyd"
      },
      "source": [
        "test_preds = model.predict(val_ds)\n",
        "predictions = tf.argmax(test_preds, axis=1)"
      ],
      "execution_count": 17,
      "outputs": []
    },
    {
      "cell_type": "code",
      "metadata": {
        "id": "AVdddx_aJvDr",
        "outputId": "cf093b3f-d7d4-40e1-d0c0-2cacc9f25fb9",
        "colab": {
          "base_uri": "https://localhost:8080/",
          "height": 543
        }
      },
      "source": [
        "confusion_matrix = tf.math.confusion_matrix(val_ds.classes, predictions, num_classes=N_CLASSES)\n",
        "labels = list(val_ds.class_indices.keys())\n",
        "plt.figure(figsize=(10, 8))\n",
        "sn.set(font_scale=1.4)\n",
        "sn.heatmap(confusion_matrix, annot=True, annot_kws={'size': 16}, fmt='d', cmap=sn.cm.rocket_r, xticklabels=labels, yticklabels=labels)\n",
        "plt.savefig(os.path.join(DATA_PATH, 'confusion_matrix.png'))\n",
        "plt.show()\n",
        "plt.close()"
      ],
      "execution_count": 20,
      "outputs": [
        {
          "output_type": "display_data",
          "data": {
            "image/png": "[encoded data removed]",
            "text/plain": [
              "<Figure size 720x576 with 2 Axes>"
            ]
          },
          "metadata": {
            "tags": []
          }
        }
      ]
    },
    {
      "cell_type": "code",
      "metadata": {
        "id": "sj81ICJ0BQq0"
      },
      "source": [
        ""
      ],
      "execution_count": null,
      "outputs": []
    }
  ]
}